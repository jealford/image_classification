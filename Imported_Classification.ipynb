{
 "cells": [
  {
   "cell_type": "code",
   "execution_count": 13,
   "metadata": {},
   "outputs": [],
   "source": [
    "# MLP for Pima Indians Dataset Serialize to JSON and HDF5\n",
    "from keras.models import Sequential\n",
    "from keras.layers import Dense\n",
    "from keras.models import model_from_json\n",
    "import numpy\n",
    "import os\n",
    "from tqdm import tqdm\n",
    "import cv2    \n",
    "import numpy as np  \n",
    "from sklearn.preprocessing import LabelEncoder\n",
    "from keras.utils import to_categorical\n",
    "import tensorflow as tf\n",
    "import keras\n",
    "from keras.models import load_model"
   ]
  },
  {
   "cell_type": "code",
   "execution_count": 14,
   "metadata": {},
   "outputs": [
    {
     "data": {
      "text/plain": [
       "'2.3.1'"
      ]
     },
     "execution_count": 14,
     "metadata": {},
     "output_type": "execute_result"
    }
   ],
   "source": [
    "tf.__version__\n",
    "keras.__version__"
   ]
  },
  {
   "cell_type": "code",
   "execution_count": 2,
   "metadata": {},
   "outputs": [
    {
     "name": "stdout",
     "output_type": "stream",
     "text": [
      "WARNING:tensorflow:From /home/jake/miniconda3/envs/asabe/lib/python3.7/site-packages/tensorflow_core/python/ops/resource_variable_ops.py:1630: calling BaseResourceVariable.__init__ (from tensorflow.python.ops.resource_variable_ops) with constraint is deprecated and will be removed in a future version.\n",
      "Instructions for updating:\n",
      "If using Keras pass *_constraint arguments to layers.\n",
      "WARNING:tensorflow:From /home/jake/miniconda3/envs/asabe/lib/python3.7/site-packages/keras/backend/tensorflow_backend.py:4070: The name tf.nn.max_pool is deprecated. Please use tf.nn.max_pool2d instead.\n",
      "\n",
      "Loaded model from disk\n"
     ]
    }
   ],
   "source": [
    "# load json and create model\n",
    "json_file = open('./models/model.json', 'r')\n",
    "loaded_model_json = json_file.read()\n",
    "json_file.close()\n",
    "loaded_model = model_from_json(loaded_model_json)\n",
    "# load weights into new model\n",
    "loaded_model.load_weights(\"./models/model.h5\")\n",
    "print(\"Loaded model from disk\")\n",
    "\n",
    "# evaluate loaded model on test data\n",
    "#loaded_model.compile(loss='binary_crossentropy', optimizer='rmsprop', metrics=['accuracy'])\n",
    "#score = loaded_model.evaluate(X, Y, verbose=0)\n",
    "#print(\"%s: %.2f%%\" % (loaded_model.metrics_names[1], score[1]*100))"
   ]
  },
  {
   "cell_type": "code",
   "execution_count": 15,
   "metadata": {},
   "outputs": [],
   "source": [
    "loaded_model = load_model(\"./cp/chkpt2.h5\")"
   ]
  },
  {
   "cell_type": "code",
   "execution_count": 16,
   "metadata": {},
   "outputs": [],
   "source": [
    "S=[]\n",
    "T=[]\n",
    "F=[]\n",
    "IMG_SIZE=150"
   ]
  },
  {
   "cell_type": "code",
   "execution_count": 17,
   "metadata": {},
   "outputs": [],
   "source": [
    "def make_unk_data(plant_type,DIR):\n",
    "    for img in tqdm(os.listdir(DIR)):\n",
    "        label=assign_label(img,plant_type)\n",
    "        img2 = img\n",
    "        path = os.path.join(DIR,img)\n",
    "        img = cv2.imread(path,cv2.COLOR_BGR2RGB)\n",
    "        img = cv2.resize(img, (IMG_SIZE,IMG_SIZE))\n",
    "        F.append(img2)\n",
    "        S.append(np.array(img)) #like X\n",
    "        T.append(str(label)) #like Z\n",
    "def assign_label(img,plant_type):\n",
    "    return plant_type"
   ]
  },
  {
   "cell_type": "code",
   "execution_count": 18,
   "metadata": {},
   "outputs": [
    {
     "name": "stderr",
     "output_type": "stream",
     "text": [
      "100%|██████████| 5/5 [00:00<00:00, 114.27it/s]\n"
     ]
    }
   ],
   "source": [
    "UNKNOWN_DIR=\"./data/unknown\"\n",
    "make_unk_data('Unknown',UNKNOWN_DIR)"
   ]
  },
  {
   "cell_type": "code",
   "execution_count": 19,
   "metadata": {},
   "outputs": [],
   "source": [
    "le=LabelEncoder()\n",
    "R=le.fit_transform(T) #like Y\n",
    "Y=to_categorical(R,3)\n",
    "S=np.array(S)\n",
    "S=S/255"
   ]
  },
  {
   "cell_type": "code",
   "execution_count": 20,
   "metadata": {},
   "outputs": [],
   "source": [
    "pred = loaded_model.predict(S)"
   ]
  },
  {
   "cell_type": "code",
   "execution_count": 21,
   "metadata": {},
   "outputs": [
    {
     "name": "stdout",
     "output_type": "stream",
     "text": [
      "green\topen\tyellow\n",
      "2 %\t0 %\t98 %\t\tjamal3.jpg\n",
      "93 %\t0 %\t7 %\t\tjamal5.jpg\n",
      "93 %\t0 %\t7 %\t\tjamal42020-02-12-194017.jpg\n",
      "0 %\t100 %\t0 %\t\tjamal.jpg\n",
      "0 %\t0 %\t100 %\t\tjamal2.jpg\n"
     ]
    }
   ],
   "source": [
    "list = pred.tolist()\n",
    "print (\"green\\topen\\tyellow\")\n",
    "for i in range(len(list)):\n",
    "    for j in list[i]:\n",
    "        print (round((j * 100),), end =\" \" + \"%\\t\")\n",
    "    print(\"\\t\" + F[i])\n",
    "    #print()\n",
    "        #print(list[i], \"\\t\\t\", F[i])"
   ]
  },
  {
   "cell_type": "code",
   "execution_count": 55,
   "metadata": {},
   "outputs": [],
   "source": [
    "loaded_model.save(\"my_model\")"
   ]
  },
  {
   "cell_type": "code",
   "execution_count": 58,
   "metadata": {},
   "outputs": [
    {
     "name": "stdout",
     "output_type": "stream",
     "text": [
      "WARNING:tensorflow:No training configuration found in save file: the model was *not* compiled. Compile it manually.\n"
     ]
    }
   ],
   "source": [
    "new_model = tf.keras.models.load_model('my_model')\n"
   ]
  },
  {
   "cell_type": "code",
   "execution_count": null,
   "metadata": {},
   "outputs": [],
   "source": [
    "green\topen\tyellow\n",
    "0 %\t0 %\t100 %\t\tjamal3.jpg\n",
    "3 %\t0 %\t97 %\t\tjamal5.jpg\n",
    "95 %\t0 %\t5 %\t\tjamal42020-02-12-194017.jpg\n",
    "0 %\t100 %\t0 %\t\tjamal.jpg\n",
    "0 %\t0 %\t100 %\t\tjamal2.jpg\n"
   ]
  }
 ],
 "metadata": {
  "kernelspec": {
   "display_name": "Python 3",
   "language": "python",
   "name": "python3"
  },
  "language_info": {
   "codemirror_mode": {
    "name": "ipython",
    "version": 3
   },
   "file_extension": ".py",
   "mimetype": "text/x-python",
   "name": "python",
   "nbconvert_exporter": "python",
   "pygments_lexer": "ipython3",
   "version": "3.7.6"
  }
 },
 "nbformat": 4,
 "nbformat_minor": 4
}
