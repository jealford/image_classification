{
 "cells": [
  {
   "cell_type": "code",
   "execution_count": 17,
   "metadata": {},
   "outputs": [],
   "source": [
    "import numpy as np\n",
    "from PIL import Image\n",
    "import tensorflow as tf # TF2\n",
    "import cv2\n",
    "from sklearn.preprocessing import LabelEncoder\n",
    "import os  "
   ]
  },
  {
   "cell_type": "code",
   "execution_count": 18,
   "metadata": {},
   "outputs": [],
   "source": [
    "interpreter = tf.lite.Interpreter(\"model_v2.tflite\")\n",
    "interpreter.allocate_tensors()"
   ]
  },
  {
   "cell_type": "code",
   "execution_count": 19,
   "metadata": {},
   "outputs": [],
   "source": [
    "input_details = interpreter.get_input_details()\n",
    "output_details = interpreter.get_output_details()"
   ]
  },
  {
   "cell_type": "code",
   "execution_count": 20,
   "metadata": {},
   "outputs": [],
   "source": [
    "DIR = \"./data/unknown/\"\n",
    "IMG_SIZE = 150"
   ]
  },
  {
   "cell_type": "code",
   "execution_count": 21,
   "metadata": {},
   "outputs": [],
   "source": [
    "def imgToArray(img):\n",
    "    path = DIR+img\n",
    "    img = cv2.imread(path, cv2.COLOR_BGR2RGB)\n",
    "    img = cv2.resize(img, (IMG_SIZE, IMG_SIZE))\n",
    "    input_data = np.array(img, dtype=np.float32)\n",
    "    input_data = np.expand_dims(input_data, 0)\n",
    "    input_data = input_data/255\n",
    "    return input_data\n",
    "    "
   ]
  },
  {
   "cell_type": "code",
   "execution_count": 22,
   "metadata": {},
   "outputs": [
    {
     "name": "stdout",
     "output_type": "stream",
     "text": [
      "green\topen\tyellow\n",
      "0 %\t0 %\t100 %\t2020-01-31-112048.jpg\n",
      "0 %\t0 %\t100 %\t2020-01-31-114320.jpg\n",
      "0 %\t7 %\t93 %\t2020-01-31-112950.jpg\n",
      "0 %\t0 %\t100 %\t2020-01-31-112829.jpg\n",
      "0 %\t0 %\t100 %\t2020-01-31-112039.jpg\n",
      "0 %\t0 %\t100 %\t2020-01-31-112115.jpg\n",
      "0 %\t0 %\t100 %\t2020-01-31-113656.jpg\n",
      "0 %\t0 %\t100 %\t2020-01-31-113648.jpg\n",
      "0 %\t0 %\t100 %\t2020-01-31-113410.jpg\n",
      "0 %\t0 %\t100 %\t2020-01-31-112107.jpg\n",
      "0 %\t0 %\t100 %\t2020-01-31-112050.jpg\n",
      "0 %\t0 %\t100 %\t2020-01-31-112129.jpg\n",
      "0 %\t0 %\t100 %\t2020-01-31-113659.jpg\n",
      "0 %\t0 %\t100 %\t2020-01-31-112109.jpg\n",
      "0 %\t0 %\t100 %\t2020-01-31-112819.jpg\n",
      "0 %\t0 %\t100 %\t2020-01-31-112607.jpg\n",
      "0 %\t0 %\t100 %\t2020-01-31-112612.jpg\n",
      "0 %\t0 %\t100 %\t2020-01-31-112813.jpg\n",
      "0 %\t0 %\t100 %\t2020-01-31-112610.jpg\n",
      "0 %\t0 %\t100 %\t2020-01-31-112954.jpg\n",
      "0 %\t0 %\t100 %\t2020-01-31-112100.jpg\n",
      "0 %\t0 %\t100 %\t2020-01-31-112123.jpg\n",
      "0 %\t0 %\t100 %\t2020-01-31-112126.jpg\n",
      "0 %\t0 %\t100 %\t2020-01-31-112547.jpg\n",
      "0 %\t0 %\t100 %\t2020-01-31-113641.jpg\n",
      "0 %\t0 %\t100 %\t2020-01-31-112944.jpg\n",
      "0 %\t0 %\t100 %\t2020-01-31-112058.jpg\n",
      "0 %\t0 %\t100 %\t2020-01-31-112558.jpg\n",
      "0 %\t0 %\t100 %\t2020-01-31-112604.jpg\n",
      "0 %\t0 %\t100 %\t2020-01-31-114314.jpg\n",
      "0 %\t0 %\t100 %\t2020-01-31-112141.jpg\n",
      "0 %\t0 %\t100 %\t2020-01-31-112940.jpg\n",
      "0 %\t0 %\t100 %\t2020-01-31-114325.jpg\n",
      "0 %\t0 %\t100 %\t2020-01-31-114333.jpg\n",
      "0 %\t0 %\t100 %\t2020-01-31-112946.jpg\n",
      "0 %\t0 %\t100 %\t2020-01-31-112832.jpg\n",
      "0 %\t0 %\t100 %\t2020-01-31-112144.jpg\n",
      "1 %\t0 %\t99 %\t2020-01-31-114402.jpg\n",
      "0 %\t0 %\t100 %\t2020-01-31-112933.jpg\n",
      "0 %\t0 %\t100 %\t2020-01-31-112119.jpg\n",
      "0 %\t0 %\t100 %\t2020-01-31-112952.jpg\n",
      "0 %\t0 %\t100 %\t2020-01-31-113644.jpg\n",
      "0 %\t0 %\t100 %\t2020-01-31-114358.jpg\n",
      "0 %\t0 %\t100 %\t2020-01-31-112824.jpg\n",
      "0 %\t0 %\t100 %\t2020-01-31-114338.jpg\n",
      "0 %\t0 %\t100 %\t2020-01-31-112556.jpg\n",
      "0 %\t0 %\t100 %\t2020-01-31-114328.jpg\n",
      "0 %\t0 %\t100 %\t2020-01-31-112942.jpg\n",
      "0 %\t0 %\t100 %\t2020-01-31-112139.jpg\n",
      "0 %\t0 %\t100 %\t2020-01-31-112834.jpg\n",
      "0 %\t0 %\t100 %\t2020-01-31-112134.jpg\n",
      "0 %\t0 %\t100 %\t2020-01-31-113652.jpg\n",
      "0 %\t0 %\t100 %\t2020-01-31-112550.jpg\n",
      "0 %\t0 %\t100 %\t2020-01-31-114331.jpg\n",
      "0 %\t0 %\t100 %\t2020-01-31-112103.jpg\n",
      "0 %\t0 %\t100 %\t2020-01-31-113419.jpg\n",
      "0 %\t0 %\t100 %\t2020-01-31-112937.jpg\n",
      "0 %\t0 %\t100 %\t2020-01-31-112553.jpg\n",
      "0 %\t0 %\t100 %\t2020-01-31-112601.jpg\n",
      "0 %\t0 %\t100 %\t2020-01-31-112826.jpg\n",
      "0 %\t0 %\t100 %\t2020-01-31-112817.jpg\n",
      "0 %\t0 %\t100 %\t2020-01-31-114335.jpg\n",
      "0 %\t0 %\t100 %\t2020-01-31-112808.jpg\n",
      "0 %\t0 %\t100 %\t2020-01-31-113651.jpg\n",
      "0 %\t2 %\t98 %\t2020-01-31-112815.jpg\n",
      "0 %\t0 %\t100 %\t2020-01-31-113655.jpg\n",
      "0 %\t0 %\t100 %\t2020-01-31-113639.jpg\n",
      "0 %\t0 %\t100 %\t2020-01-31-112132.jpg\n",
      "0 %\t0 %\t100 %\t2020-01-31-112044.jpg\n",
      "0 %\t4 %\t95 %\t2020-01-31-113647.jpg\n",
      "0 %\t0 %\t100 %\t2020-01-31-112042.jpg\n",
      "0 %\t0 %\t100 %\t2020-01-31-112948.jpg\n",
      "0 %\t0 %\t100 %\t2020-01-31-114317.jpg\n",
      "0 %\t0 %\t100 %\t2020-01-31-114322.jpg\n",
      "0 %\t0 %\t100 %\t2020-01-31-113414.jpg\n"
     ]
    }
   ],
   "source": [
    "print (\"green\\topen\\tyellow\")\n",
    "for img in os.listdir(DIR):\n",
    "    input_data = imgToArray(img)\n",
    "    img_name = img\n",
    "    interpreter.set_tensor(input_details[0][\"index\"], input_data)\n",
    "    interpreter.invoke()\n",
    "    output_data = interpreter.get_tensor(output_details[0]['index'])\n",
    "    \n",
    "    #print (\"green\\topen\\tyellow\")\n",
    "    list = output_data.tolist()\n",
    "    for i in range(len(list)):\n",
    "        for j in list[i]:\n",
    "            print (round((j * 100),), end =\" \" + \"%\\t\")\n",
    "    print (img_name)"
   ]
  },
  {
   "cell_type": "code",
   "execution_count": 16,
   "metadata": {},
   "outputs": [
    {
     "name": "stdout",
     "output_type": "stream",
     "text": [
      "green\topen\tyellow\n",
      "93 %\t0 %\t7 %\t4.jpg\n",
      "93 %\t0 %\t7 %\t3.jpg\n",
      "2 %\t0 %\t98 %\t2.jpg\n",
      "0 %\t0 %\t100 %\t1.jpg\n",
      "0 %\t100 %\t0 %\t0.jpg\n"
     ]
    }
   ],
   "source": [
    "print (\"green\\topen\\tyellow\")\n",
    "for img in os.listdir(DIR):\n",
    "    input_data = imgToArray(img)\n",
    "    img_name = img\n",
    "    interpreter.set_tensor(input_details[0][\"index\"], input_data)\n",
    "    interpreter.invoke()\n",
    "    output_data = interpreter.get_tensor(output_details[0]['index'])\n",
    "    \n",
    "    list = output_data.tolist()\n",
    "    for i in range(len(list)):\n",
    "        for j in list[i]:\n",
    "            print (round((j * 100),), end =\" \" + \"%\\t\")\n",
    "    print (img_name)"
   ]
  },
  {
   "cell_type": "code",
   "execution_count": 19,
   "metadata": {},
   "outputs": [],
   "source": [
    "'''\n",
    "IMG_SIZE = 150\n",
    "path = \"./data/unknown/0.jpg\"\n",
    "img = cv2.imread(path, cv2.COLOR_BGR2RGB)\n",
    "img = cv2.resize(img, (IMG_SIZE, IMG_SIZE))\n",
    "\n",
    "input_data = np.array(img, dtype=np.float32)\n",
    "#print (input_data.shape)\n",
    "\n",
    "input_data = np.expand_dims(input_data, 0)\n",
    "#print (input_data.shape)\n",
    "input_data = input_data/255\n",
    "#print (input_data[0])\n",
    "'''\n",
    "\n",
    "#input_data = imgToArray(\"3.jpg\")"
   ]
  },
  {
   "cell_type": "code",
   "execution_count": 11,
   "metadata": {},
   "outputs": [],
   "source": [
    "interpreter.set_tensor(input_details[0][\"index\"], input_data)\n",
    "#interpreter.get_tensor_details()"
   ]
  },
  {
   "cell_type": "code",
   "execution_count": 12,
   "metadata": {},
   "outputs": [],
   "source": [
    "interpreter.invoke()"
   ]
  },
  {
   "cell_type": "code",
   "execution_count": 13,
   "metadata": {},
   "outputs": [
    {
     "name": "stdout",
     "output_type": "stream",
     "text": [
      "green\topen\tyellow\n",
      "93 %\t0 %\t7 %\t"
     ]
    }
   ],
   "source": [
    "output_data = interpreter.get_tensor(output_details[0]['index'])\n",
    "print (\"green\\topen\\tyellow\")\n",
    "list = output_data.tolist()\n",
    "for i in range(len(list)):\n",
    "    for j in list[i]:\n",
    "        print (round((j * 100),), end =\" \" + \"%\\t\")"
   ]
  },
  {
   "cell_type": "code",
   "execution_count": 22,
   "metadata": {},
   "outputs": [
    {
     "name": "stdout",
     "output_type": "stream",
     "text": [
      "green\topen\tyellow\n",
      "93 %\t0 %\t7 %\tgreen\topen\tyellow\n",
      "93 %\t0 %\t7 %\tgreen\topen\tyellow\n",
      "93 %\t0 %\t7 %\tgreen\topen\tyellow\n",
      "93 %\t0 %\t7 %\tgreen\topen\tyellow\n",
      "93 %\t0 %\t7 %\t"
     ]
    }
   ],
   "source": [
    "for img in os.listdir(DIR):\n",
    "    input_date = imgToArray(img)\n",
    "    interpreter.set_tensor(input_details[0][\"index\"], input_data)\n",
    "    interpreter.invoke()\n",
    "    output_data = interpreter.get_tensor(output_details[0]['index'])\n",
    "    print (\"green\\topen\\tyellow\")\n",
    "    list = output_data.tolist()\n",
    "    for i in range(len(list)):\n",
    "        for j in list[i]:\n",
    "            print (round((j * 100),), end =\" \" + \"%\\t\")"
   ]
  },
  {
   "cell_type": "code",
   "execution_count": null,
   "metadata": {},
   "outputs": [],
   "source": []
  },
  {
   "cell_type": "code",
   "execution_count": null,
   "metadata": {},
   "outputs": [],
   "source": []
  },
  {
   "cell_type": "code",
   "execution_count": null,
   "metadata": {},
   "outputs": [],
   "source": []
  },
  {
   "cell_type": "code",
   "execution_count": null,
   "metadata": {},
   "outputs": [],
   "source": []
  },
  {
   "cell_type": "code",
   "execution_count": null,
   "metadata": {},
   "outputs": [],
   "source": []
  },
  {
   "cell_type": "code",
   "execution_count": null,
   "metadata": {},
   "outputs": [],
   "source": []
  },
  {
   "cell_type": "code",
   "execution_count": null,
   "metadata": {},
   "outputs": [],
   "source": []
  },
  {
   "cell_type": "code",
   "execution_count": null,
   "metadata": {},
   "outputs": [],
   "source": [
    "input_details\n",
    "IMGS = []\n",
    "DIR = \"./data/unknown\"\n",
    "IMG_SIZE = 150"
   ]
  },
  {
   "cell_type": "code",
   "execution_count": null,
   "metadata": {},
   "outputs": [],
   "source": [
    "IMGS = []\n",
    "imgToArray(DIR)\n",
    "input_data =np.array(IMGS)\n",
    "\n",
    "print (input_data.shape)\n",
    "input_data = input_data/255\n",
    "#print (input_data[0])\n"
   ]
  },
  {
   "cell_type": "code",
   "execution_count": null,
   "metadata": {},
   "outputs": [],
   "source": [
    "def imgToArray(DIR):\n",
    "    for img in os.listdir(DIR):\n",
    "        path = os.path.join(DIR, img)\n",
    "        img = cv2.imread(path, cv2.COLOR_BGR2RGB)\n",
    "        img = cv2.resize(img, (IMG_SIZE,IMG_SIZE))\n",
    "        IMGS.append(np.array(img, dtype=np.float32)) "
   ]
  }
 ],
 "metadata": {
  "kernelspec": {
   "display_name": "Python 3",
   "language": "python",
   "name": "python3"
  },
  "language_info": {
   "codemirror_mode": {
    "name": "ipython",
    "version": 3
   },
   "file_extension": ".py",
   "mimetype": "text/x-python",
   "name": "python",
   "nbconvert_exporter": "python",
   "pygments_lexer": "ipython3",
   "version": "3.7.6"
  }
 },
 "nbformat": 4,
 "nbformat_minor": 4
}
